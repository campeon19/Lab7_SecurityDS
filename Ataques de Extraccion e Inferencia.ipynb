{
 "cells": [
  {
   "cell_type": "markdown",
   "id": "f30a0990",
   "metadata": {},
   "source": [
    "Extraccion\n",
    "Este ataque consiste en \"copiar\" un modelo\n",
    "Necesitamos acceso al modelo para consultar predicciones, y parte de la data de entrenamiento"
   ]
  },
  {
   "cell_type": "code",
   "execution_count": 1,
   "id": "5a35e279",
   "metadata": {},
   "outputs": [
    {
     "name": "stderr",
     "output_type": "stream",
     "text": [
      "/Users/jyass/miniforge3/lib/python3.9/site-packages/tqdm/auto.py:22: TqdmWarning: IProgress not found. Please update jupyter and ipywidgets. See https://ipywidgets.readthedocs.io/en/stable/user_install.html\n",
      "  from .autonotebook import tqdm as notebook_tqdm\n"
     ]
    }
   ],
   "source": [
    "import tensorflow as tf\n",
    "from tensorflow.keras.layers import Conv2D, MaxPool2D, Dense, Flatten\n",
    "import numpy as np\n",
    "import matplotlib.pyplot as plt\n",
    "import matplotlib\n",
    "from art.estimators.classification import KerasClassifier #No soporta TF 2\n",
    "from art.attacks.evasion import FastGradientMethod\n",
    "from art.utils import load_dataset\n",
    "\n",
    "# Disabling eager execution from TF 2\n",
    "tf.compat.v1.disable_eager_execution()"
   ]
  },
  {
   "cell_type": "code",
   "execution_count": 2,
   "id": "6a2de69a",
   "metadata": {},
   "outputs": [],
   "source": [
    "#Se utilizara una version del dataset del MNIST con 60k digitos a mano que incluye ART\n",
    "(train_images, train_labels), (test_images, test_labels), min, max = load_dataset(name=\"mnist\")"
   ]
  },
  {
   "cell_type": "code",
   "execution_count": 3,
   "id": "1c939076",
   "metadata": {},
   "outputs": [],
   "source": [
    "#Usamos las 10k observaciones que no fueron utilizadas en el modelo \n",
    "train_images_stolen = train_images[50000:]\n",
    "train_labels_stolen = train_labels[50000:]"
   ]
  },
  {
   "cell_type": "code",
   "execution_count": 4,
   "id": "ee1cb63c",
   "metadata": {},
   "outputs": [
    {
     "name": "stdout",
     "output_type": "stream",
     "text": [
      "Metal device set to: Apple M1\n"
     ]
    },
    {
     "name": "stderr",
     "output_type": "stream",
     "text": [
      "2023-04-20 18:53:36.102707: I tensorflow/core/common_runtime/pluggable_device/pluggable_device_factory.cc:305] Could not identify NUMA node of platform GPU ID 0, defaulting to 0. Your kernel may not have been built with NUMA support.\n",
      "2023-04-20 18:53:36.102796: I tensorflow/core/common_runtime/pluggable_device/pluggable_device_factory.cc:271] Created TensorFlow device (/job:localhost/replica:0/task:0/device:GPU:0 with 0 MB memory) -> physical PluggableDevice (device: 0, name: METAL, pci bus id: <undefined>)\n",
      "2023-04-20 18:53:36.110117: W tensorflow/core/platform/profile_utils/cpu_utils.cc:128] Failed to get CPU frequency: 0 Hz\n",
      "2023-04-20 18:53:36.110638: I tensorflow/core/grappler/optimizers/custom_graph_optimizer_registry.cc:113] Plugin optimizer for device_type GPU is enabled.\n",
      "2023-04-20 18:53:36.122942: I tensorflow/core/grappler/optimizers/custom_graph_optimizer_registry.cc:113] Plugin optimizer for device_type GPU is enabled.\n"
     ]
    }
   ],
   "source": [
    "#Cargamos el modelo\n",
    "\n",
    "vulnerable_model = tf.keras.models.load_model(\"modelo_victima1\")"
   ]
  },
  {
   "cell_type": "code",
   "execution_count": 5,
   "id": "c8e98551",
   "metadata": {},
   "outputs": [],
   "source": [
    "clasificador = KerasClassifier(\n",
    "    model=vulnerable_model,\n",
    "    clip_values=(min, max))"
   ]
  },
  {
   "cell_type": "code",
   "execution_count": 6,
   "id": "c0ea1d07",
   "metadata": {},
   "outputs": [],
   "source": [
    "from art.attacks.extraction import CopycatCNN\n",
    "# Creating the \"neural net thief\" object\n",
    "# that will steal the original classifier\n",
    "copycat_cnn = CopycatCNN(\n",
    "    batch_size_fit=256,\n",
    "    batch_size_query=256,\n",
    "    nb_epochs=20,\n",
    "    nb_stolen=20000,\n",
    "    classifier=clasificador\n",
    "    )"
   ]
  },
  {
   "cell_type": "code",
   "execution_count": 7,
   "id": "8b605cef",
   "metadata": {},
   "outputs": [],
   "source": [
    "#Definimos un nuevo modelo\n",
    "def create_blank_model():\n",
    "    # Defining the model\n",
    "    model = tf.keras.models.Sequential([\n",
    "        Conv2D(filters=32, kernel_size=2, activation=\"relu\", input_shape=(28, 28, 1)),\n",
    "        MaxPool2D(pool_size=2),\n",
    "        Conv2D(filters=128, kernel_size=3, activation=\"relu\"),\n",
    "        MaxPool2D(pool_size=2),\n",
    "        Conv2D(filters=32, kernel_size=2, activation=\"relu\"),\n",
    "        MaxPool2D(pool_size=2),\n",
    "        Flatten(),        \n",
    "        Dense(units=10, activation=\"softplus\")\n",
    "    ])\n",
    "\n",
    "    # Compiling the model\n",
    "    model.compile(\n",
    "        optimizer=\"SGD\",\n",
    "        loss=\"categorical_crossentropy\",\n",
    "        metrics=[\"accuracy\"]\n",
    "        )\n",
    "\n",
    "    # Returning the model\n",
    "    return model"
   ]
  },
  {
   "cell_type": "code",
   "execution_count": 8,
   "id": "ca11f60e",
   "metadata": {},
   "outputs": [],
   "source": [
    "model_stolen = KerasClassifier(\n",
    "    model=create_blank_model(), \n",
    "    clip_values=(min, max)\n",
    "    )"
   ]
  },
  {
   "cell_type": "code",
   "execution_count": 9,
   "id": "a9a1702d",
   "metadata": {},
   "outputs": [
    {
     "name": "stderr",
     "output_type": "stream",
     "text": [
      "/Users/jyass/miniforge3/lib/python3.9/site-packages/keras/engine/training_v1.py:2079: UserWarning: `Model.state_updates` will be removed in a future version. This property should not be used in TensorFlow 2.0, as `updates` are applied automatically.\n",
      "  updates=self.state_updates,\n",
      "2023-04-20 18:57:54.383074: I tensorflow/core/grappler/optimizers/custom_graph_optimizer_registry.cc:113] Plugin optimizer for device_type GPU is enabled.\n",
      "2023-04-20 18:57:54.397029: I tensorflow/core/grappler/optimizers/custom_graph_optimizer_registry.cc:113] Plugin optimizer for device_type GPU is enabled.\n",
      "2023-04-20 18:57:54.479677: I tensorflow/core/grappler/optimizers/custom_graph_optimizer_registry.cc:113] Plugin optimizer for device_type GPU is enabled.\n"
     ]
    },
    {
     "name": "stdout",
     "output_type": "stream",
     "text": [
      "Train on 10000 samples\n",
      "Epoch 1/20\n"
     ]
    },
    {
     "name": "stderr",
     "output_type": "stream",
     "text": [
      "2023-04-20 18:57:54.898099: I tensorflow/core/grappler/optimizers/custom_graph_optimizer_registry.cc:113] Plugin optimizer for device_type GPU is enabled.\n",
      "2023-04-20 18:57:54.910661: I tensorflow/core/grappler/optimizers/custom_graph_optimizer_registry.cc:113] Plugin optimizer for device_type GPU is enabled.\n",
      "2023-04-20 18:57:54.916052: I tensorflow/core/grappler/optimizers/custom_graph_optimizer_registry.cc:113] Plugin optimizer for device_type GPU is enabled.\n",
      "2023-04-20 18:57:54.921781: I tensorflow/core/grappler/optimizers/custom_graph_optimizer_registry.cc:113] Plugin optimizer for device_type GPU is enabled.\n"
     ]
    },
    {
     "name": "stdout",
     "output_type": "stream",
     "text": [
      "10000/10000 [==============================] - 1s 125us/sample - loss: 2.2992 - accuracy: 0.1072\n",
      "Epoch 2/20\n",
      "10000/10000 [==============================] - 1s 95us/sample - loss: 2.2888 - accuracy: 0.1094\n",
      "Epoch 3/20\n",
      "10000/10000 [==============================] - 1s 95us/sample - loss: 2.2790 - accuracy: 0.1110\n",
      "Epoch 4/20\n",
      "10000/10000 [==============================] - 1s 90us/sample - loss: 2.2691 - accuracy: 0.1302\n",
      "Epoch 5/20\n",
      "10000/10000 [==============================] - 1s 88us/sample - loss: 2.2577 - accuracy: 0.1829\n",
      "Epoch 6/20\n",
      "10000/10000 [==============================] - 1s 87us/sample - loss: 2.2444 - accuracy: 0.2955\n",
      "Epoch 7/20\n",
      "10000/10000 [==============================] - 1s 88us/sample - loss: 2.2282 - accuracy: 0.3728\n",
      "Epoch 8/20\n",
      "10000/10000 [==============================] - 1s 88us/sample - loss: 2.2083 - accuracy: 0.4385\n",
      "Epoch 9/20\n",
      "10000/10000 [==============================] - 1s 96us/sample - loss: 2.1829 - accuracy: 0.5046\n",
      "Epoch 10/20\n",
      "10000/10000 [==============================] - 1s 89us/sample - loss: 2.1489 - accuracy: 0.5460\n",
      "Epoch 11/20\n",
      "10000/10000 [==============================] - 1s 89us/sample - loss: 2.1037 - accuracy: 0.5902\n",
      "Epoch 12/20\n",
      "10000/10000 [==============================] - 1s 87us/sample - loss: 2.0420 - accuracy: 0.6091\n",
      "Epoch 13/20\n",
      "10000/10000 [==============================] - 1s 87us/sample - loss: 1.9546 - accuracy: 0.6529\n",
      "Epoch 14/20\n",
      "10000/10000 [==============================] - 1s 87us/sample - loss: 1.8224 - accuracy: 0.6846\n",
      "Epoch 15/20\n",
      "10000/10000 [==============================] - 1s 86us/sample - loss: 1.6016 - accuracy: 0.7139\n",
      "Epoch 16/20\n",
      "10000/10000 [==============================] - 1s 86us/sample - loss: 1.2785 - accuracy: 0.7530\n",
      "Epoch 17/20\n",
      "10000/10000 [==============================] - 1s 86us/sample - loss: 0.9957 - accuracy: 0.7755\n",
      "Epoch 18/20\n",
      "10000/10000 [==============================] - 1s 92us/sample - loss: 0.7882 - accuracy: 0.8136\n",
      "Epoch 19/20\n",
      "10000/10000 [==============================] - 1s 88us/sample - loss: 0.6520 - accuracy: 0.8375\n",
      "Epoch 20/20\n",
      "10000/10000 [==============================] - 1s 91us/sample - loss: 0.5676 - accuracy: 0.8518\n"
     ]
    }
   ],
   "source": [
    "# Extracting a thieved classifier\n",
    "# by training the reference model\n",
    "stolen_classifier = copycat_cnn.extract(\n",
    "    x=train_images_stolen, \n",
    "    y=train_labels_stolen, \n",
    "    thieved_classifier=model_stolen\n",
    "    )"
   ]
  },
  {
   "cell_type": "code",
   "execution_count": 10,
   "id": "13df7945",
   "metadata": {},
   "outputs": [
    {
     "name": "stderr",
     "output_type": "stream",
     "text": [
      "/Users/jyass/miniforge3/lib/python3.9/site-packages/keras/engine/training_v1.py:2057: UserWarning: `Model.state_updates` will be removed in a future version. This property should not be used in TensorFlow 2.0, as `updates` are applied automatically.\n",
      "  updates = self.state_updates\n",
      "2023-04-20 18:58:36.470329: I tensorflow/core/grappler/optimizers/custom_graph_optimizer_registry.cc:113] Plugin optimizer for device_type GPU is enabled.\n",
      "2023-04-20 18:58:36.479660: I tensorflow/core/grappler/optimizers/custom_graph_optimizer_registry.cc:113] Plugin optimizer for device_type GPU is enabled.\n",
      "2023-04-20 18:58:38.768133: I tensorflow/core/grappler/optimizers/custom_graph_optimizer_registry.cc:113] Plugin optimizer for device_type GPU is enabled.\n"
     ]
    },
    {
     "name": "stdout",
     "output_type": "stream",
     "text": [
      "Original test loss: 0.04 vs stolen test loss: 0.68\n",
      "Original test accuracy: 0.99 vs stolen test accuracy: 0.78\n"
     ]
    }
   ],
   "source": [
    "# Testing the performance of the original classifier\n",
    "score_original = clasificador._model.evaluate(\n",
    "    x=test_images, \n",
    "    y=test_labels\n",
    "    )\n",
    "\n",
    "# Testing the performance of the stolen classifier\n",
    "score_stolen = stolen_classifier._model.evaluate(\n",
    "    x=test_images, \n",
    "    y=test_labels\n",
    "    )\n",
    "\n",
    "# Comparing test losses\n",
    "print(f\"Original test loss: {score_original[0]:.2f} \" \n",
    "      f\"vs stolen test loss: {score_stolen[0]:.2f}\")\n",
    "\n",
    "# Comparing test accuracies\n",
    "print(f\"Original test accuracy: {score_original[1]:.2f} \" \n",
    "      f\"vs stolen test accuracy: {score_stolen[1]:.2f}\")"
   ]
  },
  {
   "cell_type": "markdown",
   "id": "dd7d3485",
   "metadata": {},
   "source": [
    "Inferencia\n",
    "Ataque MIA, se busca inferir la data utilizada para entrenamiento"
   ]
  },
  {
   "cell_type": "code",
   "execution_count": 11,
   "id": "5427bd40",
   "metadata": {},
   "outputs": [],
   "source": [
    "from art.attacks.inference.model_inversion import MIFace\n",
    "\n",
    "# Defining a model inversion attack\n",
    "attack = MIFace(\n",
    "    classifier=clasificador,\n",
    "    max_iter=500, #Este parametro depende del hardware, es el numero de repeticiones para el gradiente descendente\n",
    "    batch_size=256)"
   ]
  },
  {
   "cell_type": "code",
   "execution_count": 12,
   "id": "e64617cd",
   "metadata": {},
   "outputs": [
    {
     "name": "stdout",
     "output_type": "stream",
     "text": [
      "[0 1 2 3 4 5 6 7 8 9]\n"
     ]
    }
   ],
   "source": [
    "# Defining the target labels for model inversion\n",
    "y = np.arange(start=0, stop=10)\n",
    "\n",
    "# Inspecting the target labels\n",
    "print(y)"
   ]
  },
  {
   "cell_type": "code",
   "execution_count": 13,
   "id": "fd52db29",
   "metadata": {},
   "outputs": [],
   "source": [
    "# Defining an initialization array for model inversion\n",
    "#La calidad del output depende tambien de este vector de inicializaion\n",
    "x_init_average = np.zeros(shape=(10, 28, 28, 1)) + np.mean(a=test_images, axis=0)"
   ]
  },
  {
   "cell_type": "code",
   "execution_count": 14,
   "id": "16fcb349",
   "metadata": {},
   "outputs": [
    {
     "name": "stderr",
     "output_type": "stream",
     "text": [
      "Model inversion:   0%|                                    | 0/1 [00:00<?, ?it/s]2023-04-20 19:09:41.883064: I tensorflow/core/grappler/optimizers/custom_graph_optimizer_registry.cc:113] Plugin optimizer for device_type GPU is enabled.\n",
      "2023-04-20 19:09:41.947721: I tensorflow/core/grappler/optimizers/custom_graph_optimizer_registry.cc:113] Plugin optimizer for device_type GPU is enabled.\n",
      "2023-04-20 19:09:42.001607: I tensorflow/core/grappler/optimizers/custom_graph_optimizer_registry.cc:113] Plugin optimizer for device_type GPU is enabled.\n",
      "2023-04-20 19:09:42.052294: I tensorflow/core/grappler/optimizers/custom_graph_optimizer_registry.cc:113] Plugin optimizer for device_type GPU is enabled.\n",
      "2023-04-20 19:09:42.103611: I tensorflow/core/grappler/optimizers/custom_graph_optimizer_registry.cc:113] Plugin optimizer for device_type GPU is enabled.\n",
      "2023-04-20 19:09:42.161389: I tensorflow/core/grappler/optimizers/custom_graph_optimizer_registry.cc:113] Plugin optimizer for device_type GPU is enabled.\n",
      "2023-04-20 19:09:42.217676: I tensorflow/core/grappler/optimizers/custom_graph_optimizer_registry.cc:113] Plugin optimizer for device_type GPU is enabled.\n",
      "2023-04-20 19:09:42.271726: I tensorflow/core/grappler/optimizers/custom_graph_optimizer_registry.cc:113] Plugin optimizer for device_type GPU is enabled.\n",
      "2023-04-20 19:09:42.328599: I tensorflow/core/grappler/optimizers/custom_graph_optimizer_registry.cc:113] Plugin optimizer for device_type GPU is enabled.\n",
      "2023-04-20 19:09:42.382807: I tensorflow/core/grappler/optimizers/custom_graph_optimizer_registry.cc:113] Plugin optimizer for device_type GPU is enabled.\n",
      "Model inversion: 100%|████████████████████████████| 1/1 [00:13<00:00, 13.88s/it]\n"
     ]
    }
   ],
   "source": [
    "# Running model inversion\n",
    "x_infer_from_average = attack.infer(\n",
    "    x=x_init_average, \n",
    "    y=y\n",
    "    )"
   ]
  },
  {
   "cell_type": "code",
   "execution_count": 15,
   "id": "f45e1a50",
   "metadata": {},
   "outputs": [
    {
     "data": {
      "image/png": "[encoded data removed]",
      "text/plain": [
       "<Figure size 1440x720 with 10 Axes>"
      ]
     },
     "metadata": {},
     "output_type": "display_data"
    }
   ],
   "source": [
    "nrows, ncols = 2, 5\n",
    "# Creating a figure and axes for our plot\n",
    "fig, axes = plt.subplots(\n",
    "    nrows=nrows, \n",
    "    ncols=ncols, \n",
    "    figsize=(20, 10)\n",
    "    )\n",
    "\n",
    "# Declaring a counting variable\n",
    "counter = 0\n",
    "\n",
    "# Iterating over the axes and plotting the inferred images in them\n",
    "for i in range(nrows):\n",
    "    for j in range(ncols):        \n",
    "        axes[i, j].set_xticks(ticks=[])\n",
    "        axes[i, j].set_yticks(ticks=[])\n",
    "        axes[i, j].imshow(X=x_infer_from_average[counter])\n",
    "\n",
    "        # Incrementing the counter\n",
    "        counter += 1\n",
    "\n",
    "# Showing the plotted axes\n",
    "plt.show()"
   ]
  },
  {
   "cell_type": "code",
   "execution_count": null,
   "id": "09541efa",
   "metadata": {},
   "outputs": [],
   "source": []
  }
 ],
 "metadata": {
  "kernelspec": {
   "display_name": "Python 3 (ipykernel)",
   "language": "python",
   "name": "python3"
  },
  "language_info": {
   "codemirror_mode": {
    "name": "ipython",
    "version": 3
   },
   "file_extension": ".py",
   "mimetype": "text/x-python",
   "name": "python",
   "nbconvert_exporter": "python",
   "pygments_lexer": "ipython3",
   "version": "3.9.10"
  }
 },
 "nbformat": 4,
 "nbformat_minor": 5
}
